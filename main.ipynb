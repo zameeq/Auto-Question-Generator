{
 "cells": [
  {
   "cell_type": "code",
   "execution_count": 4,
   "metadata": {},
   "outputs": [
    {
     "name": "stdout",
     "output_type": "stream",
     "text": [
      "\n",
      "\n",
      "------X------\n",
      "Start  output:\n",
      "\n",
      "Q-01: What is Guide Dogs Nsw/act under the Ndis?\n",
      "Q-02: Who is a registered provider under the Ndis?\n",
      "Q-03: What you provide of services and your specialists can assist clients in coordinating their ndis plan?\n",
      "Q-04: Who provide a variety of services and your specialists can assist clients in coordinating their ndis plan?\n",
      "Q-05: Who can assist clients in coordinating their ndis plan?\n",
      "Q-06: Who coordinating their ndis plan?\n",
      "Q-07: Who is best to get in touch with your specialists to discuss what options and services are suitable to i?\n",
      "Q-08: Who are suitable to i?\n",
      "Q-09: What i can also f N at https : //www?\n",
      "Q-10: Who can also fill out the online service request form at https : //www?\n",
      "\n",
      "End  OutPut\n",
      "-----X-----\n",
      "\n",
      "\n"
     ]
    }
   ],
   "source": [
    "import aqgFunction\n",
    "\n",
    "\n",
    "# Main Function\n",
    "def main():\n",
    "    # Create AQG object\n",
    "    aqg = aqgFunction.AutomaticQuestionGenerator()\n",
    "\n",
    "    inputTextPath = \"E:/s.txt\"\n",
    "    readFile = open(inputTextPath, 'r+', encoding=\"utf8\")\n",
    "    #readFile = open(inputTextPath, 'r+', encoding=\"utf8\", errors = 'ignore')\n",
    "\n",
    "    inputText = readFile.read()\n",
    "    #inputText = '''I am Dipta. I love codding. I build my carrier with this.'''\n",
    "\n",
    "    questionList = aqg.aqgParse(inputText)\n",
    "    aqg.display(questionList)\n",
    "\n",
    "    #aqg.DisNormal(questionList)\n",
    "\n",
    "    return 0\n",
    "\n",
    "\n",
    "# Call Main Function\n",
    "if __name__ == \"__main__\":\n",
    "    main()\n",
    "\n"
   ]
  },
  {
   "cell_type": "code",
   "execution_count": null,
   "metadata": {},
   "outputs": [],
   "source": []
  }
 ],
 "metadata": {
  "kernelspec": {
   "display_name": "Python 3",
   "language": "python",
   "name": "python3"
  },
  "language_info": {
   "codemirror_mode": {
    "name": "ipython",
    "version": 3
   },
   "file_extension": ".py",
   "mimetype": "text/x-python",
   "name": "python",
   "nbconvert_exporter": "python",
   "pygments_lexer": "ipython3",
   "version": "3.7.1"
  }
 },
 "nbformat": 4,
 "nbformat_minor": 2
}
