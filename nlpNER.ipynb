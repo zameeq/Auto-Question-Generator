{
 "cells": [
  {
   "cell_type": "code",
   "execution_count": 8,
   "metadata": {},
   "outputs": [],
   "source": [
    "import spacy\n",
    "\n",
    "\n",
    "def nerTagger(nlp, tokenize):\n",
    "    doc = nlp(tokenize)\n",
    "\n",
    "    finalList = []\n",
    "    array = [[]]\n",
    "    for word in doc:\n",
    "        array[0] = 0\n",
    "        for ner in doc.ents:\n",
    "            if (ner.text == word.text):\n",
    "                finalList.append((word.text, ner.label_))\n",
    "                array[0] = 1\n",
    "        if (array[0] == 0):\n",
    "            finalList.append((word.text, 'O'))\n",
    "\n",
    "    return finalList\n"
   ]
  },
  {
   "cell_type": "code",
   "execution_count": null,
   "metadata": {},
   "outputs": [],
   "source": []
  }
 ],
 "metadata": {
  "kernelspec": {
   "display_name": "Python 3",
   "language": "python",
   "name": "python3"
  },
  "language_info": {
   "codemirror_mode": {
    "name": "ipython",
    "version": 3
   },
   "file_extension": ".py",
   "mimetype": "text/x-python",
   "name": "python",
   "nbconvert_exporter": "python",
   "pygments_lexer": "ipython3",
   "version": "3.7.1"
  }
 },
 "nbformat": 4,
 "nbformat_minor": 2
}
